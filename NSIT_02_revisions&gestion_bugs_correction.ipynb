{
 "cells": [
  {
   "cell_type": "markdown",
   "metadata": {},
   "source": [
    "<div style=\"width:100%;border-collapse:separate;border:solid 2px;border-radius:14px;\">\n",
    "    <div style=\"display:flex;\">\n",
    "        <div style=\"display:inline;width:5%;\"></div>\n",
    "        <div style=\"display:inline;width:15%;\">NSIT</div>\n",
    "        <div style=\"display:inline;width:15%;\">e02a</div>\n",
    "        <div style=\"display:inline;width:70%;text-align:right;\"><b>Langages et programmation</b></div>\n",
    "        <div style=\"display:inline;width:5%;\"></div>\n",
    "    </div>\n",
    "    <div  style=\"display: flex;background-color:#EEE\">\n",
    "        <p style=\"width:100%;text-align:center;\">Mise au point des programmes</p>\n",
    "    </div>\n",
    "    <div  style=\"display: flex;\">\n",
    "        <p style=\"width:100%;text-align:center;\">Révisions et gestion des bugs</p>\n",
    "    </div>\n",
    "</div>"
   ]
  },
  {
   "cell_type": "markdown",
   "metadata": {},
   "source": [
    "<div class = \"alert alert-success\">\n",
    "    \n",
    "**Objectifs de la séquence:** \n",
    "- Révisions de quelques acquis de première: Indentation, listes, tuples, définition de fonction, spécifications, importation de module.\n",
    "- Tests unitaires avec assertions (assert) et doctest"
   ]
  },
  {
   "cell_type": "markdown",
   "metadata": {},
   "source": [
    "<div class = \"alert alert-info\">\n",
    "    \n",
    "**Sommaire :**\n",
    "\n",
    "- <a href=#Indentation>Indentation</a>  \n",
    "- <a href=#Listes>Listes</a>  \n",
    "- <a href=#Importations>Importations</a>   \n",
    "- <a href=#Fonctions>Fonctions (Spécifications)</a>   \n",
    "- <a href=#Assertions>Assertions</a>\n",
    "- <a href=#Doctest>Doctest</a>\n",
    "    \n",
    "</div>\n",
    "\n",
    "<div class = \"alert alert-danger\">\n",
    "    <b>Remaque:</b> Lorque vous rencontrez trois petits points ... C'est qu'il faut les supprimer pour mettre à cet endroit le code attendu."
   ]
  },
  {
   "cell_type": "markdown",
   "metadata": {},
   "source": [
    "<div id=\"Indentation\"></div>\n",
    "\n",
    "## Indentation\n",
    "\n",
    "L'indentation correspond au nombre d'espaces en début de ligne qui permet d'identifier les blocs de code.  \n",
    "Chaque sous-bloc est décalé de 4 espaces.  \n",
    "Complétez ou modifiez le programme pour que le résultat corresponde aux commentaires.  \n",
    "<p style=\"font-size: small; \">Coup de pouce: <a href=\"https://www.w3schools.com/python/gloss_python_indentation.asp#:~:text=Indentation%20refers%20to%20the%20spaces,indicate%20a%20block%20of%20code\">W3Schools.com(Python Indentation)</a></p>\n",
    "<p style=\"font-size: small; \">Pour aller plus loin: <a href=\"https://fr.wikipedia.org/wiki/Indentation_comme_syntaxe\">Wikipedia(Indentation)</a></p>\n"
   ]
  },
  {
   "cell_type": "code",
   "execution_count": 53,
   "metadata": {},
   "outputs": [
    {
     "name": "stdout",
     "output_type": "stream",
     "text": [
      "0\n",
      "1\n",
      "3\n",
      "6\n"
     ]
    }
   ],
   "source": [
    "# Soit un entier n. \n",
    "# On souhaite afficher la somme de tous les entiers compris entre 0 et n.\n",
    "# On ne souhaite afficher QUE le résultat final\n",
    "n = 4\n",
    "somme = 0 # Initialisation de la somme\n",
    "for indice in range(n): # La variable indice va prendre toutes les valeurs de 0 à n\n",
    "    somme += indice\n",
    "    print(somme)"
   ]
  },
  {
   "cell_type": "markdown",
   "metadata": {},
   "source": [
    "Vous avez peut-être remarqué que le programme ci-dessus ne répond pas exactement au problème donné...  \n",
    "Il y a aussi un soucis sur le <code>range()</code>. Corrigez le et faites le test pour n=10.\n",
    "\n",
    "\n",
    "Corrigez les erreurs du programme ci-dessous.  \n",
    "Attention, il n'y a pas que des erreurs d'indentations. \n",
    "<p style=\"font-size: small; \">Coup de pouce: <a href=\"\n",
    "http://www.python-simple.com/python-langage/operateurs-de-comparaisons.php\">Python simple(Opérateurs de comparaison)</a></p>"
   ]
  },
  {
   "cell_type": "code",
   "execution_count": 24,
   "metadata": {},
   "outputs": [
    {
     "ename": "SyntaxError",
     "evalue": "invalid syntax (<ipython-input-24-101d6fcd84bf>, line 5)",
     "output_type": "error",
     "traceback": [
      "\u001b[0;36m  File \u001b[0;32m\"<ipython-input-24-101d6fcd84bf>\"\u001b[0;36m, line \u001b[0;32m5\u001b[0m\n\u001b[0;31m    for entier in ma_liste\u001b[0m\n\u001b[0m                          ^\u001b[0m\n\u001b[0;31mSyntaxError\u001b[0m\u001b[0;31m:\u001b[0m invalid syntax\n"
     ]
    }
   ],
   "source": [
    "# Soit ma_liste, une liste d'entiers\n",
    "ma_liste = [1,3,4,5,6,7,8,3,4,2,5,6]\n",
    "# On souhaite afficher la somme de tous les entiers pairs de ma_liste\n",
    "somme = 0 # Initialisation de la somme\n",
    "for entier in ma_liste\n",
    "  if entier%2 = 1: # L'opérateur modulo (%) renvoie le reste de la division euclidienne de 'entier' par 2\n",
    "    somme += entier\n",
    "somme # Inutile de faire un print ici, la cellule affiche le dernier résultat"
   ]
  },
  {
   "cell_type": "markdown",
   "metadata": {},
   "source": [
    "<div id=\"Listes\"></div>\n",
    "\n",
    "## Listes\n",
    "\n",
    "Nous allons revoir ici les actions principales sur les listes.\n",
    "\n",
    "<p style=\"font-size: small; \">Coup de pouce: <a href=\"http://www.python-simple.com/python-langage/liste.php\">Python simple (Listes)</a></p>"
   ]
  },
  {
   "cell_type": "code",
   "execution_count": 20,
   "metadata": {},
   "outputs": [
    {
     "name": "stdout",
     "output_type": "stream",
     "text": [
      "Nombre de parties jouées: 8\n",
      "Score de la première partie de Doris: 120\n",
      "Liste des scores d'Albert: [100, 200, 80, 40, 205, 150, 155, 285]\n",
      "Troisième score de Céline: 140\n",
      "Nombre de participants: 4\n",
      "Nombre de parties jouées: 9\n",
      "Scores de la quatrième partie: [40, 210, 180, 120]\n",
      "Meilleur score sur cette partie: 210\n",
      "L'indice du vainqueur est: 1\n"
     ]
    }
   ],
   "source": [
    "# Quatre personnes ont noté leurs scores lors d'un tournoi à un jeu en réseau\n",
    "Albert = [100, 200, 80, 40, 205, 150, 155, 250]\n",
    "Boris = [180,190,120, 210, 190, 180, 170, 150]\n",
    "Céline = [30, 80, 110, 180, 210, 240, 270, 280]\n",
    "Doris = [120, 130,140, 120, 150, 160, 120, 130]\n",
    "# Combien de parties ont été jouées. Utilisez la fonction 'len()'\n",
    "print(\"Nombre de parties jouées:\",len(Albert))\n",
    "# Affichez le résultat de la toute première partie de Doris\n",
    "print(\"Score de la première partie de Doris:\", Doris[0])\n",
    "# Il y a une erreur sur le dernier score d'Albert. Il n'a pas fait 250 mais 285 points. Faites la modification.\n",
    "Albert[-1] = 285\n",
    "print(\"Liste des scores d'Albert:\",Albert)\n",
    "# Nos 4 joueurs font une dernière parties et marquent respectivement les scores suivants: 102, 160, 290, 290\n",
    "# Ajoutez ces données avec la méthode 'append()'\n",
    "Albert.append(102)\n",
    "Boris.append(160)\n",
    "Céline.append(290)\n",
    "Doris.append(290)\n",
    "# On construit une liste des scores des participants. 'scores' est une liste de listes.\n",
    "scores = [Albert, Boris, Céline, Doris]\n",
    "# Affichez le troisième score de Doris. A prori, cela devrait renvoyer 140\n",
    "print(\"Troisième score de Céline:\", scores[3][2])\n",
    "# Retrouvez le nombre de participants à l'aide de la fonction 'len()'\n",
    "print(\"Nombre de participants:\", len(scores))\n",
    "# Affichez le nombre de parties jouées à partir de la fonction 'len()' et de liste 'scores'\n",
    "print(\"Nombre de parties jouées:\", len(scores[0]))\n",
    "# On désire afficher les scores des 4 concurents pour la quatrième partie\n",
    "# On construit une liste nommée 'scores_partie' qui contient les scores de la quatrième partie\n",
    "scores_partie = [ scores[0][3], scores[1][3], scores[2][3], scores[3][3] ]\n",
    "print(\"Scores de la quatrième partie:\", scores_partie)\n",
    "# On cherche le maximum de la liste 'scores_partie'. Utilisez la fonction 'max()'\n",
    "print(\"Meilleur score sur cette partie:\",max(scores_partie))\n",
    "# Si l'on souhaite trouver identifier le vainqueur, on peut rechercher l'indice du maximum dans 'scores_partie'\n",
    "print(\"L'indice du vainqueur est:\",scores_partie.index(max(scores_partie)))\n",
    "# Remarque: Dans quel cas cette procédure ne donne pas une réponse satisfaisante."
   ]
  },
  {
   "cell_type": "markdown",
   "metadata": {},
   "source": [
    "<b>Défi 1:</b>  \n",
    "Pour aller plus loin sur les listes, nous souhaitons savoir qui a gagné le plus grand nombre de parties.  \n",
    "1- On initialise une liste 'victoires' pour comptabiliser les victoires des concurents.  \n",
    "2- On fait une boucle pour parcourir toutes les parties.  \n",
    "3- Dans cette boucle, on construit la liste 'scores_partie' pour recueillir les scores d'une partie.  \n",
    "4- On cherche l'index du meilleur score de cette partie et on ajoute une victoire à ce joueur.  \n",
    "5- On affiche à la fin la liste 'victoires'"
   ]
  },
  {
   "cell_type": "markdown",
   "metadata": {},
   "source": [
    "<div class = \"alert alert-danger\">\n",
    "    <b>Remaque:</b> Il faut que la cellule précédente ait été exécutée. Sinon la variable 'scores' n'existe pas."
   ]
  },
  {
   "cell_type": "code",
   "execution_count": 29,
   "metadata": {},
   "outputs": [
    {
     "data": {
      "text/plain": [
       "[2, 2, 4, 1]"
      ]
     },
     "execution_count": 29,
     "metadata": {},
     "output_type": "execute_result"
    }
   ],
   "source": [
    "# Initialisation de la liste 'victoires'\n",
    "victoires = [0]*4\n",
    "# On boucle sur toutes les parties\n",
    "for partie in range(len(scores[0])):\n",
    "    scores_partie = []  # Initialisation des scores de cette partie\n",
    "    for joueur in range(len(scores)): # On construit la liste 'scores_partie'\n",
    "        scores_partie.append(scores[joueur][partie]) # Le score de chaque joueur est ajouté pour cette partie\n",
    "    vainqueur = scores_partie.index(max(scores_partie)) # On trouve l'indice du vainqueur\n",
    "    # On ajoute une victoire à ce participant\n",
    "    victoires[vainqueur] += 1\n",
    "victoires"
   ]
  },
  {
   "cell_type": "markdown",
   "metadata": {},
   "source": [
    "<div id=\"Importation\"></div>\n",
    "\n",
    "## Importation\n",
    "\n",
    "De nombreuses fonctions sont disponibles en dehors des fonctions <a href=https://docs.python.org/fr/3/library/functions.html>'natives'</a> du langage.  \n",
    "On peut les utiliser à condition de les importer dans notre code.  \n",
    "Il est aussi possible de construire ses propres modules.  \n",
    "\n",
    "On peut ainsi dessiner une représentation graphique de l'évolution des scores des 4 participants.  \n",
    "Le code ci-dessous ne fonctionne que si la bibliothèque <b>matplotlib.pyplot</b> est importée.  \n",
    "Regardez dans la source ci-dessous comment cette bibliothèque peut être importée en la renommant sous l'alias 'plt'.  \n",
    "<p style=\"font-size: small; \">Source: <a href=\"https://sites.google.com/view/aide-python/graphiques/diagrammes-en-barres\">site d'Antoine Massé (Diagramme en barres à barres regroupées)</a></p>\n"
   ]
  },
  {
   "cell_type": "code",
   "execution_count": 51,
   "metadata": {},
   "outputs": [
    {
     "data": {
      "image/png": "[encoded data removed]",
      "text/plain": [
       "<Figure size 432x288 with 1 Axes>"
      ]
     },
     "metadata": {
      "needs_background": "light"
     },
     "output_type": "display_data"
    }
   ],
   "source": [
    "import matplotlib.pyplot as plt # importation de la bibliothèque matplotlib\n",
    "\n",
    "# Construction des références en abscisses\n",
    "x = []\n",
    "for joueur in range(len(scores)):\n",
    "    x.append([])\n",
    "    for partie in range(len(scores[0])):\n",
    "        x[joueur].append(partie + 0.2*joueur)\n",
    "\n",
    "# Trace le graphique en barres pour chaque joueur\n",
    "for joueur in range(len(scores)):\n",
    "    plt.bar(x[joueur], scores[joueur], width = 0.2) \n",
    "plt.grid() # affiche la grille\n",
    "plt.show() # affiche le graphique"
   ]
  },
  {
   "cell_type": "markdown",
   "metadata": {},
   "source": [
    "<div id=\"Fonctions\"></div>\n",
    "\n",
    "## Fonctions (Spécifications)\n",
    "\n",
    "Dans cette partie, nous allons revoir différentes façons de décrire le fonctionnement d'une fonction.  \n",
    "Les spécifications sont précisées dans les premiers commentaires (docstrings) qui suivent la définition d'une fonction.  \n",
    "Complétez les spécifications ou corrigez-les programmes pour qu'ils répondent aux spécifications.  "
   ]
  },
  {
   "cell_type": "code",
   "execution_count": 57,
   "metadata": {},
   "outputs": [
    {
     "data": {
      "text/plain": [
       "True"
      ]
     },
     "execution_count": 57,
     "metadata": {},
     "output_type": "execute_result"
    }
   ],
   "source": [
    "def est_pair(x):\n",
    "    \"\"\" Cette fonction renvoie ... si la variable x en paramètre est pair\n",
    "    \"\"\"\n",
    "    return x%2 == 0\n",
    "\n",
    "est_pair(4)"
   ]
  },
  {
   "cell_type": "code",
   "execution_count": 58,
   "metadata": {},
   "outputs": [
    {
     "data": {
      "text/plain": [
       "4"
      ]
     },
     "execution_count": 58,
     "metadata": {},
     "output_type": "execute_result"
    }
   ],
   "source": [
    "def un_de_plus(x):\n",
    "    \"\"\" ...\n",
    "    \"\"\"\n",
    "    return x+1\n",
    "\n",
    "un_de_plus(3)"
   ]
  },
  {
   "cell_type": "markdown",
   "metadata": {},
   "source": [
    "On peut être plus précis en indiquant les types attendus pour les paramètres et la variable renvoyée par la fonction.\n",
    "<p style=\"font-size: small; \">Source TRES complète sur les types: <a href=\"http://www.xavierdupre.fr/app/teachpyx/helpsphinx/c_lang/types.html\">xavierdupre.fr</a></p>\n",
    "\n",
    "Complétez le programme ci-dessous et faites plusieurs essais en changeant la dernière ligne:  \n",
    "<code>est_positif(10,\"Ce nombre est bien positif.\")</code>  \n",
    "puis  \n",
    "<code>est_positif(0,\"Ce nombre est bien positif.\")</code>"
   ]
  },
  {
   "cell_type": "code",
   "execution_count": 62,
   "metadata": {},
   "outputs": [
    {
     "data": {
      "text/plain": [
       "False"
      ]
     },
     "execution_count": 62,
     "metadata": {},
     "output_type": "execute_result"
    }
   ],
   "source": [
    "def est_positif(x,affichage):\n",
    "    \"\"\" int, str -> bool\n",
    "    Si x est positif, affiche le texte 'affichage' et renvoie True\n",
    "    Sinon, renvoie False\n",
    "    \"\"\"\n",
    "    if x >= 0 :\n",
    "        print(...)\n",
    "        return True\n",
    "    else:\n",
    "        return ...\n",
    "\n",
    "est_positif(-2,\"Ce nombre est bien positif.\")"
   ]
  },
  {
   "cell_type": "markdown",
   "metadata": {},
   "source": [
    "Contrairement à certains langages, Python n'impose pas de déclarer le type des variables: Python est un langage à <b>typage dynamique</b>.  \n",
    "Mais il est possible de donner des <b>indications de type (\"type hints\")</b> dans la définition de la fonction.  \n",
    "Dans la défiintion ci-dessous, on précise que le paramètre 'ma_liste' est de type 'list' et que la fonction renvoie un 'tuple' (que l'on appelle aussi p-uplet en français)."
   ]
  },
  {
   "cell_type": "code",
   "execution_count": 68,
   "metadata": {},
   "outputs": [
    {
     "data": {
      "text/plain": [
       "(8, Ellipsis)"
      ]
     },
     "execution_count": 68,
     "metadata": {},
     "output_type": "execute_result"
    }
   ],
   "source": [
    "def les_deux_plus_grands(ma_liste:list)->tuple:\n",
    "    \"\"\"Renvoie le p-uplet constitué des deux plus grands nombres de 'ma_liste'\n",
    "    Précondition: 'ma_liste' doit contenir au moins deux éléments.\n",
    "    Postcondition: Le premier élément du couple renvoyé est le maximum de 'ma_liste'.\n",
    "    \"\"\"\n",
    "    plus_grand = max(ma_liste) # Trouve le plus grand élément de 'ma_liste'\n",
    "    del ma_liste[ma_liste.index(plus_grand)] # Supprime cet élément de 'ma_liste'\n",
    "    second_plus_grand = ... # Trouve le nouveau plus grand élément de 'ma_liste'\n",
    "    return (plus_grand, ...)\n",
    "\n",
    "les_deux_plus_grands([4,8,1,2])"
   ]
  },
  {
   "cell_type": "markdown",
   "metadata": {},
   "source": [
    "Quelque soit la méthode choisie, le pus important est de documenter clairement son code pour pouvoir le relire et le rendre compréhensible par d'autres personnes."
   ]
  },
  {
   "cell_type": "markdown",
   "metadata": {},
   "source": [
    "<div id=\"Assertions\"></div>\n",
    "\n",
    "## Assertions\n",
    "\n",
    "Les assertions servent à tester des conditions critiques qui ne devraient jamais arriver et faire stopper le programme si l’une d’entres-elles est déclenchée.  \n",
    "On peut ainsi par exemple forcer le programme à déclencher un message d'erreur personnalisé si une précondition n'est pas respectée ou faire une série de tests unitaires pour tester le bon fonctionnement d'une fonction à travers quelques cas particuliers.\n",
    "<p style=\"font-size: small; \">Pour aller plus loin: <a href=\"https://openclassrooms.com/fr/courses/235344-apprenez-a-programmer-en-python/231688-gerez-les-exceptions\">Openclassrooms (Gestion des execptions)</a></p>"
   ]
  },
  {
   "cell_type": "code",
   "execution_count": 85,
   "metadata": {},
   "outputs": [
    {
     "data": {
      "text/plain": [
       "(820, -930)"
      ]
     },
     "execution_count": 85,
     "metadata": {},
     "output_type": "execute_result"
    }
   ],
   "source": [
    "# La liste 'gains' comprend la suite des scores de différentes parties à un jeu.\n",
    "# Les valeurs négatives représentent des pertes. Les positives représentent des gains.\n",
    "# On souhaite calculer la somme des gains et la somme des pertes.\n",
    "\n",
    "gains_joueur1 = [120, 300, -400, 100, -30, 100, -500, 200]\n",
    "gains_joueur2 = []\n",
    "gains_joueur3 = [300]\n",
    "\n",
    "def calculer_gains_pertes(mes_gains:list)->tuple:\n",
    "    \"\"\" Renvoie le p-uplet comprenant la somme des gains (valeurs positives) et la somme des pertes (valeurs négatives).\n",
    "    precondition: La liste 'mes_gains' n'est pas vide.\n",
    "    \"\"\"\n",
    "    assert len(mes_gains) > 0, 'La liste des gains est vide'\n",
    "    somme_gains = 0\n",
    "    somme_pertes = 0\n",
    "    for valeur in mes_gains:\n",
    "        if valeur > 0:\n",
    "            somme_gains += valeur\n",
    "        else:\n",
    "            somme_pertes += valeur\n",
    "    return (somme_gains, somme_pertes)\n",
    "\n",
    "assert calculer_gains_pertes([1,2,-1,-2]) == (2,-3) # Corrigez la valeur attendue par cet appel. La somme des gains ne vaut pas 2.\n",
    "\n",
    "calculer_gains_pertes(gains_joueur1) #réessayez avec 'gains_joueur2' en paramètre à la place de 'gains_joueur1'"
   ]
  },
  {
   "cell_type": "markdown",
   "metadata": {},
   "source": [
    "<div id=\"Doctest\"></div>\n",
    "\n",
    "## Doctest\n",
    "\n",
    "Il existe des outils permettant d'intégrer les tests unitaires (assertions) dans les spécifications (docstrings).  \n",
    "Cela nous oblige aussi à imposer un format aux  commentaires, ce qui aide finalement à le rendre plus lisible.  \n",
    "Dans l'exemple ci-dessous, on retrouve dans les spécifications de la fonction 'addition' le type attendu des paramètes 'a' et 'b', de la valeur renvoyée par la fonction, suivi d'une série de test unitaires.  \n",
    "Pour pouvoir lancer le test, il faut construire le corps du programme comme une fonction: <code>if __name__ == '__main__':</code>  \n",
    "et il faut importer la bibliothèque doctest.  \n",
    "\n",
    "<b>A faire:</b> Le second test n'est pas bien programmé. 50 - 8 = 42. Corrigez-le.  \n",
    "Proposez une troisième assertion. PAr exemple, testez la somme de 1 et -2.\n",
    "<p style=\"font-size: small; \">Pour aller plus loin: <a href=\"https://blog.flozz.fr/2020/06/15/doctest-vous-navez-aucune-excuse-pour-ne-pas-ecrire-des-tests-unitaires-en-python/\">FLOZz'Blog</a></p>"
   ]
  },
  {
   "cell_type": "code",
   "execution_count": 88,
   "metadata": {},
   "outputs": [
    {
     "name": "stdout",
     "output_type": "stream",
     "text": [
      "Trying:\n",
      "    addition(1, 2)\n",
      "Expecting:\n",
      "    3\n",
      "ok\n",
      "Trying:\n",
      "    addition(50, -8)\n",
      "Expecting:\n",
      "    42\n",
      "ok\n",
      "6 items had no tests:\n",
      "    __main__\n",
      "    __main__.calculer_gains_pertes\n",
      "    __main__.est_pair\n",
      "    __main__.est_positif\n",
      "    __main__.les_deux_plus_grands\n",
      "    __main__.un_de_plus\n",
      "1 items passed all tests:\n",
      "   2 tests in __main__.addition\n",
      "2 tests in 7 items.\n",
      "2 passed and 0 failed.\n",
      "Test passed.\n",
      "La somme de 3 + 2 vaut : 5\n"
     ]
    }
   ],
   "source": [
    "def addition(a, b):\n",
    "    \"\"\"Additionne les deux nombres passés en paramètres.\n",
    "\n",
    "    :param int a: Premier terme de l'addition.\n",
    "    :param int b: Second terme.\n",
    "\n",
    "    :return: La somme des deux paramètres.\n",
    "\n",
    "    >>> addition(1, 2)\n",
    "    3\n",
    "    >>> addition(50, -8)\n",
    "    42\n",
    "    \"\"\"\n",
    "    return a + b\n",
    "\n",
    "if __name__ == '__main__':\n",
    "    import doctest\n",
    "    doctest.testmod(verbose = True) #Le test s'effectue en mode 'bavard'. \n",
    "    # Que le test passe ou pas, il laissera une trace.\n",
    "    \n",
    "    print(\"La somme de 3 + 2 vaut :\",addition(3,2))"
   ]
  },
  {
   "cell_type": "markdown",
   "metadata": {},
   "source": [
    "---\n",
    "<p style=\"font-family:Comic Sans MS; text-align: center; color:gray; font-size: x-small; \">- Eric Buonocore. Septembre 2020 -</p>\n",
    "\n",
    "![Licence CC BY NC SA](https://licensebuttons.net/l/by-nc-sa/3.0/88x31.png)"
   ]
  }
 ],
 "metadata": {
  "kernelspec": {
   "display_name": "Python 3",
   "language": "python",
   "name": "python3"
  },
  "language_info": {
   "codemirror_mode": {
    "name": "ipython",
    "version": 3
   },
   "file_extension": ".py",
   "mimetype": "text/x-python",
   "name": "python",
   "nbconvert_exporter": "python",
   "pygments_lexer": "ipython3",
   "version": "3.7.6"
  }
 },
 "nbformat": 4,
 "nbformat_minor": 2
}

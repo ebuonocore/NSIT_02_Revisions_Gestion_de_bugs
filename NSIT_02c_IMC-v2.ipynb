{
 "cells": [
  {
   "cell_type": "markdown",
   "metadata": {},
   "source": [
    "<div style=\"width:100%;border-collapse:separate;border:solid 2px;border-radius:14px;\">\n",
    "    <div style=\"display:flex;\">\n",
    "        <div style=\"display:inline;width:5%;\"></div>\n",
    "        <div style=\"display:inline;width:15%;\">NSIT</div>\n",
    "        <div style=\"display:inline;width:15%;\">02c</div>\n",
    "        <div style=\"display:inline;width:70%;text-align:right;\"><b>Langages et programmation</b></div>\n",
    "        <div style=\"display:inline;width:5%;\"></div>\n",
    "    </div>\n",
    "    <div  style=\"display: flex;background-color:#EEE\">\n",
    "        <p style=\"width:100%;text-align:center;\">Mise au point des programmes</p>\n",
    "    </div>\n",
    "    <div  style=\"display: flex;\">\n",
    "        <p style=\"width:100%;text-align:center;\">Calcul de l'indice de Masse Corporelle (IMC)</p>\n",
    "    </div>\n",
    "</div>"
   ]
  },
  {
   "cell_type": "markdown",
   "metadata": {},
   "source": [
    "<div class = \"alert alert-success\">\n",
    "    \n",
    "**Objectifs de la séquence:** \n",
    "- Mettre au point le programme de calcul de l'IMC à partir d'un pseudo-code\n",
    "- Tests unitaires avec assertions (assert)"
   ]
  },
  {
   "cell_type": "markdown",
   "metadata": {},
   "source": [
    "![Graphique_IMC](https://github.com/ebuonocore/NSIT_02_Revisions_Gestion_de_bugs/blob/master/IMC_graphique_IMC-v2.png?raw=true)\n",
    "<span style=\"font-family:Comic Sans MS; color:gray; font-size: x-small;float:right \">Source:<a href =\"https://fr.wikipedia.org/wiki/Indice_de_masse_corporelle\">Wikipédia(IMC)</a></span> "
   ]
  },
  {
   "cell_type": "markdown",
   "metadata": {},
   "source": [
    "<div class = \"alert alert-info\">\n",
    "<b>ALGORITHME :</b> Calcul de l’Indice de Masse Corporelle  \n",
    "<div style=\"margin-left: 30px;\">\n",
    "    <b>DEBUT</b><br>\n",
    "    <div style=\"margin-left: 60px;\">\n",
    "        <b>FONCTION</b> saisir_entier(texte_a_afficher)  <br>\n",
    "        <div style=\"margin-left: 90px;\">\n",
    "            ASSERTION (texte_a_afficher est une chaîne de caractères)<br>  \n",
    "            AFFICHE (texte_a_afficher)<br> \n",
    "            chaine = LIRE()<br> \n",
    "            ASSERTION (chaine peut être converti en entier)<br> \n",
    "            chaine_entier = TRANSTYPER_EN_ENTIER(chaine)<br> \n",
    "            ASSERTION(chaine_entier est positif)<br> \n",
    "            RETOURNE chaine_entier<br>\n",
    "        </div>\n",
    "        <b>FIN_FONCTION</b><br><br>\n",
    "        <b>DEBUT_CORPS_DU_PROGRAMME</b>  \n",
    "        <div style=\"margin-left: 90px;\">\n",
    "            taille_cm = saisir_entier(« Quelle est votre taille en cm? »)<br> \n",
    "            poids = saisir_entier(« Quel est votre poids en kg? »)<br> \n",
    "            taille_m = taille_cm / 100<br> \n",
    "            IMC = poids / taille_m²<br> \n",
    "            AFFICHER (IMC)<br> \n",
    "        </div>\n",
    "        <b>FIN_CORPS_DU_PROGRAMME</b><br>\n",
    "    </div>\n",
    "    <b>FIN</b><br>\n",
    "</div>\n",
    "\n"
   ]
  },
  {
   "cell_type": "markdown",
   "metadata": {},
   "source": [
    "<b>Correspondances pseudo-codes / Python:</b>\n",
    "- AFFICHER() correspond à la fonction ‘print()’\n",
    "- LIRE() correspond à la fonction ‘input()’\n",
    "- Élever au carré (^2) s’écrit **2 en Python\n",
    "- il faut utiliser ‘isdigit()’ pour vérifier si une chaîne peut être convertie en entier.\n",
    "\n",
    "## Structure du code\n",
    "\n",
    "Dans un premier temps je n'écris que la structure du programme, les spécifications et des commentaires."
   ]
  },
  {
   "cell_type": "code",
   "execution_count": null,
   "metadata": {},
   "outputs": [],
   "source": [
    "def saisir_entier(texte_a_afficher:str)->int:\n",
    "    \"\"\" Précondition: la variable 'texte_a_afficher' est une chaine de caractères\n",
    "        Postcondition: La valeur renvoyée est un entier positif\n",
    "        On s'assure que la valeur saisie au clavier correspond à un entier positif\n",
    "        avant d'en renvoyer la valeur transtypée (int)\n",
    "    \"\"\"\n",
    "    # Valide que 'texte_a_afficher' est bien une chaine de caractère\n",
    "    # Affiche 'texte_a_afficher'\n",
    "    # Demande la saisie au clavier et l'affecte à la variable 'chaine'\n",
    "    # Valide que 'chaine' peut être converti en un entier positif\n",
    "    # Transtype la variable 'chaine' et l'affecte à 'chaine_entier'\n",
    "    # Renvoie la valeur de 'chaine_entier'\n",
    "\n",
    "if __name__ == \"__main__\": # Corps du programme\n",
    "    # Demande de saisir la taille en cm\n",
    "    # Demande de saisirr le poids en kg\n",
    "    # Changement d'unité pour le calcul\n",
    "    # Calcul l'IMC\n",
    "    # Affiche l'IMC"
   ]
  },
  {
   "cell_type": "markdown",
   "metadata": {},
   "source": [
    "Je rajoute les assertions:"
   ]
  },
  {
   "cell_type": "code",
   "execution_count": 7,
   "metadata": {},
   "outputs": [
    {
     "name": "stdout",
     "output_type": "stream",
     "text": [
      "20\n",
      "2\n"
     ]
    }
   ],
   "source": [
    "def saisir_entier(texte_a_afficher:str)->int:\n",
    "    \"\"\" Précondition: la variable 'texte_a_afficher' est une chaine de caractères\n",
    "        Postcondition: La valeur renvoyée est un entier positif\n",
    "        On s'assure que la valeur saisie au clavier correspond à un entier positif\n",
    "        avant d'en renvoyer la valeur transtypée (int)\n",
    "    \"\"\"\n",
    "    assert type(texte_a_afficher) == str, \"Le paramètre de la fonction doit être une chaîne de caractères\" # Valide que 'texte_a_afficher' est bien une chaine de caractère\n",
    "    # Affiche 'texte_a_afficher'\n",
    "    chaine = input()# Demande la saisie au clavier et l'affecte à la variable 'chaine'\n",
    "    assert ..., \"La valeur saisie ne correspond pas à un entier positif\" # Valide que 'chaine' peut être converti en un entier positif\n",
    "    # Transtype la variable 'chaine' et l'affecte à 'chaine_entier'\n",
    "    # Renvoie la valeur de 'chaine_entier'\n",
    "\n",
    "if __name__ == \"__main__\": # Corps du programme\n",
    "    taille_cm = saisir_entier(\"Quelle est votre taille en cm? \")# Demande de saisir la taille en cm\n",
    "    poids = saisir_entier(\"Quel est votre poids en kg?\")# Demande de saisirr le poids en kg\n",
    "    # Changement d'unité pour le calcul\n",
    "    # Calcul l'IMC\n",
    "    # Affiche l'IMC"
   ]
  },
  {
   "cell_type": "markdown",
   "metadata": {},
   "source": [
    "On peut déjà tester les assertions et une partie du code.\n",
    "\n",
    "## Edition du code\n",
    "\n",
    "On peut maintenant rajouter le reste du code:"
   ]
  },
  {
   "cell_type": "code",
   "execution_count": 9,
   "metadata": {},
   "outputs": [
    {
     "name": "stdout",
     "output_type": "stream",
     "text": [
      "Quelle est votre taille en cm? \n",
      "150\n",
      "Quel est votre poids en kg?\n",
      "50\n",
      "Votre IMC est de 22.22222222222222\n"
     ]
    }
   ],
   "source": [
    "def saisir_entier(texte_a_afficher:str)->int:\n",
    "    \"\"\" Précondition: la variable 'texte_a_afficher' est une chaine de caractères\n",
    "        Postcondition: La valeur renvoyée est un entier positif\n",
    "        On s'assure que la valeur saisie au clavier correspond à un entier positif\n",
    "        avant d'en renvoyer la valeur transtypée (int)\n",
    "    \"\"\"\n",
    "    assert type(texte_a_afficher) == str, \"Le paramètre de la fonction doit être une chaîne de caractères\" # Valide que 'texte_a_afficher' est bien une chaine de caractère\n",
    "    print(texte_a_afficher) # Affiche 'texte_a_afficher'\n",
    "    chaine = input()# Demande la saisie au clavier et l'affecte à la variable 'chaine'\n",
    "    assert  ..., \"La valeur saisie ne correspond pas à un entier positif\" # Valide que 'chaine' peut être converti en un entier positif\n",
    "    chaine_entier = ... # Transtype la variable 'chaine' et l'affecte à 'chaine_entier'\n",
    "    return ... # Renvoie la valeur de 'chaine_entier'\n",
    "\n",
    "if __name__ == \"__main__\": # Corps du programme\n",
    "    taille_cm = saisir_entier(\"Quelle est votre taille en cm? \")# Demande de saisir la taille en cm\n",
    "    poids = saisir_entier(\"Quel est votre poids en kg?\")# Demande de saisirr le poids en kg\n",
    "    taille_m = taille_cm/100 # Changement d'unité pour le calcul\n",
    "    IMC = ... # Calcul l'IMC\n",
    "    print(\"Votre IMC est de\",IMC)# Affiche l'IMC"
   ]
  },
  {
   "cell_type": "markdown",
   "metadata": {},
   "source": [
    "<div class = \"alert alert-info\">\n",
    "    <b> Consigne suivante:</b><br>\n",
    "    Un poids ‘normal’ correspond à un IMC compris entre 18,5 et 25.<br>\n",
    "    Indiquez à l'utilisateur si il est dans la bonnne 'fourchette'<br>\n",
    "</div>"
   ]
  },
  {
   "cell_type": "markdown",
   "metadata": {},
   "source": [
    "Inutile de réécrire la définition de la fonction: Elle a déjà été interprétée précédemment.  \n",
    "Au passage, on arrondit l'affichage de l'IMC à 2 chiffres après la virgule avec la fonction <code>round</code>"
   ]
  },
  {
   "cell_type": "code",
   "execution_count": 12,
   "metadata": {},
   "outputs": [
    {
     "name": "stdout",
     "output_type": "stream",
     "text": [
      "Quelle est votre taille en cm? \n",
      "39\n",
      "Quel est votre poids en kg?\n",
      "79\n",
      "Votre IMC est de 519.395\n",
      "Votre IMC est en dehors de la zone comprise entre 18.5 et 25\n"
     ]
    }
   ],
   "source": [
    "if __name__ == \"__main__\": # Corps du programme\n",
    "    taille_cm = saisir_entier(\"Quelle est votre taille en cm? \")# Demande de saisir la taille en cm\n",
    "    poids = saisir_entier(\"Quel est votre poids en kg?\")# Demande de saisirr le poids en kg\n",
    "    taille_m = taille_cm/100 # Changement d'unité pour le calcul\n",
    "    IMC = ... # Calcul l'IMC\n",
    "    print(\"Votre IMC est de\",round(IMC,2))# Affiche l'IMC\n",
    "    \n",
    "    if ... :\n",
    "        print(\"Votre IMC est correcte\")\n",
    "    else:\n",
    "        print(\"Votre IMC est en dehors de la zone comprise entre 18.5 et 25\")"
   ]
  },
  {
   "cell_type": "markdown",
   "metadata": {},
   "source": [
    "<div class = \"alert alert-info\">\n",
    "    <b> Dernière partie: Une représentation graphique</b><br>  \n",
    "    L'illustration au début du notebook représente les courbes de poids (en kg) par rapport à la taille (en cm) pour différentes valeurs d'IMC.<br>\n",
    "    On souhaite:<br>\n",
    "    - Tracer les courbes du poids en fonction de la taille pour un IMC de 18,5 et de 25<br>\n",
    "    - Placer un point sur ce graphique correspondant aux valeurs saisies par l'utilisateur<br>\n",
    "</div>"
   ]
  },
  {
   "cell_type": "markdown",
   "metadata": {},
   "source": [
    "<b>Exemple:</b><br>\n",
    "Pour construire un graphique, on peut utiliser la bibliothèque <b>pylab</b>.  \n",
    "Dans l'exemple suivant, la liste 'abscisses' comprend toutes les valeurs de 10 à 20 avec un pas de 0.5.  \n",
    "Pour chacune des valeurs de 'abscisses', on calcule le nouvel élément de 'resultats'.  \n",
    "Ici: <code>resultats[i] = abscisses[i]^2 / 100 </code> <br>\n",
    "Les couples (abscisses[i], resultats[i]) correspondent à l'ensemble des points à dessiner. "
   ]
  },
  {
   "cell_type": "code",
   "execution_count": 15,
   "metadata": {},
   "outputs": [
    {
     "data": {
      "image/png": "[encoded data removed]",
      "text/plain": [
       "<Figure size 432x288 with 1 Axes>"
      ]
     },
     "metadata": {
      "needs_background": "light"
     },
     "output_type": "display_data"
    }
   ],
   "source": [
    "from pylab import *\n",
    "\n",
    "abscisses =[]\n",
    "resultats = []\n",
    "for i in range(21): # 'i' prend les valeurs de 0 à 20\n",
    "    abscisse = 10 + i / 2 # 'abscisse' prend des valeurs comprises entre 10 et 20\n",
    "    abscisses.append(abscisse) # On ajoute la valeur 'abscisse' à la liste 'abscisses'\n",
    "    resultat = abscisse**2 / 100 # On calcule l'ordonnée correspondante à cette abscisse\n",
    "    resultats.append(resultat) # On l'ajoute à la liste 'resultats'\n",
    "\n",
    "plot(abscisses, resultats) # Trace le graphe correspondant\n",
    "\n",
    "show() # Affiche la figure à l'ecran"
   ]
  },
  {
   "cell_type": "markdown",
   "metadata": {},
   "source": [
    "Et avec des légendes, c'est encore mieux:  \n",
    "Au passage je rajoute le dessin de y = x³/ 1500"
   ]
  },
  {
   "cell_type": "code",
   "execution_count": 29,
   "metadata": {},
   "outputs": [
    {
     "data": {
      "image/png": "[encoded data removed]",
      "text/plain": [
       "<Figure size 432x288 with 1 Axes>"
      ]
     },
     "metadata": {
      "needs_background": "light"
     },
     "output_type": "display_data"
    }
   ],
   "source": [
    "from pylab import *\n",
    "\n",
    "abscisses =[]\n",
    "resultats_1 = []\n",
    "resultats_2 = []\n",
    "for i in range(21): # 'i' prend les valeurs de 0 à 20\n",
    "    abscisse = 10 + i / 2 # 'abscisse' prend des valeurs comprises entre 10 et 20\n",
    "    abscisses.append(abscisse) # On ajoute la valeur 'abscisse' à la liste 'abscisses'\n",
    "    resultat_1 = abscisse**2 / 100 # On calcule l'ordonnée correspondante à cette abscisse\n",
    "    resultats_1.append(resultat_1) # On l'ajoute à la liste 'resultats_1'\n",
    "    resultat_2 = abscisse**3 / 1500 # On calcule l'ordonnée correspondante à cette abscisse pour la seconde fonction\n",
    "    resultats_2.append(resultat_2) # On l'ajoute à la liste 'resultats_2'\n",
    "    \n",
    "\n",
    "plot(abscisses, resultats_1, label=\"y = x² / 100\") # Trace le graphe correspondant\n",
    "plot(abscisses, resultats_2, label=\"y = x³ / 1500\") # Trace le graphe correspondant\n",
    "\n",
    "xlabel(\"x\")\n",
    "ylabel(\"y\")\n",
    "legend()\n",
    "show() # Affiche la figure à l'ecran"
   ]
  },
  {
   "cell_type": "markdown",
   "metadata": {},
   "source": [
    "## A vous de jouer:\n",
    "\n",
    "Construisez le graphique correspondant aux courbes d'IMC 18,5 et 25.  \n",
    "Soit <code>y = 18,5 * taille²</code><br>\n",
    "et <code>y = 25 * taille²</code><br>\n",
    "<b>Cerise sur la gâteau:</b><br>\n",
    "Placez dans ce graphique le point correspondant aux données saisies par l'utiliateur.  \n",
    "Point de coordonnées ([taille_cm],[poids])"
   ]
  },
  {
   "cell_type": "code",
   "execution_count": 30,
   "metadata": {},
   "outputs": [
    {
     "name": "stdout",
     "output_type": "stream",
     "text": [
      "Quelle est votre taille en cm? \n",
      "150\n",
      "Quel est votre poids en kg?\n",
      "60\n",
      "Votre IMC est de 26.67\n",
      "Votre IMC est en dehors de la zone comprise entre 18.5 et 25\n"
     ]
    },
    {
     "data": {
      "image/png": "[encoded data removed]",
      "text/plain": [
       "<Figure size 432x288 with 1 Axes>"
      ]
     },
     "metadata": {
      "needs_background": "light"
     },
     "output_type": "display_data"
    }
   ],
   "source": [
    "if __name__ == \"__main__\": # Corps du programme\n",
    "    taille_cm = saisir_entier(\"Quelle est votre taille en cm? \")# Demande de saisir la taille en cm\n",
    "    poids = saisir_entier(\"Quel est votre poids en kg?\")# Demande de saisirr le poids en kg\n",
    "    taille_m = taille_cm/100 # Changement d'unité pour le calcul\n",
    "    IMC = ... # Calcul l'IMC\n",
    "    print(\"Votre IMC est de\",round(IMC,2))# Affiche l'IMC\n",
    "    \n",
    "    if ... :\n",
    "        print(\"Votre IMC est correcte\")\n",
    "    else:\n",
    "        print(\"Votre IMC est en dehors de la zone comprise entre 18.5 et 25\")\n",
    "    # Initialisation des listes 't' pour taille, 'p_18_5' et 'p_25' pour les poids correspondant à l'IMC de 18,5 et 25\n",
    "    t=[]\n",
    "    p_18_5 = []\n",
    "    p_25 = []\n",
    "    for i in range(21): # i prend les valeurs de 0 à 20\n",
    "        ... # La variable taille prend les valeurs de 1m à 2m par pas de 5cm\n",
    "        ... # On ajoute la valeur taille au tableau t\n",
    "        ... # On ajoute au tableau p_18_5 le poids qui correspond à cett taille pour un IMC de 18.5\n",
    "        ... # On ajoute au tableau p_25 le poids qui correspond à cett taille pour un IMC de 25\n",
    "\n",
    "    plot(..., ... , label=\"IMC = 18.5\") # Trace le graphe correspondant aux points d'IMC 18,5\n",
    "    plot(..., ..., label=\"IMC = 25\") # Trace le graphe correspondant aux points d'IMC 25\n",
    "    plt.plot(..., ...., \"b:o\", label=\"Vous\") # Ce graphe se limite à afficher un point: abscisse = [taille_m], ordonnée = [poids]\n",
    "    xlabel(\"Taille\")\n",
    "    ylabel(\"Poids\")\n",
    "    legend()\n",
    "\n",
    "    show() # Affiche la figure à l'ecran"
   ]
  },
  {
   "cell_type": "markdown",
   "metadata": {},
   "source": [
    "## Code final\n",
    "Copier/coller ci-desssous votre code créé à partir de votre IDE (Spyder, Thonny, Edupython...)"
   ]
  },
  {
   "cell_type": "code",
   "execution_count": null,
   "metadata": {},
   "outputs": [],
   "source": []
  },
  {
   "cell_type": "markdown",
   "metadata": {},
   "source": [
    "---\n",
    "<p style=\"font-family:Comic Sans MS; text-align: center; color:gray; font-size: x-small; \">- Eric Buonocore. Septembre 2020 -</p>\n",
    "\n",
    "![Licence CC BY NC SA](https://licensebuttons.net/l/by-nc-sa/3.0/88x31.png)"
   ]
  }
 ],
 "metadata": {
  "kernelspec": {
   "display_name": "Python 3",
   "language": "python",
   "name": "python3"
  },
  "language_info": {
   "codemirror_mode": {
    "name": "ipython",
    "version": 3
   },
   "file_extension": ".py",
   "mimetype": "text/x-python",
   "name": "python",
   "nbconvert_exporter": "python",
   "pygments_lexer": "ipython3",
   "version": "3.7.3"
  }
 },
 "nbformat": 4,
 "nbformat_minor": 2
}

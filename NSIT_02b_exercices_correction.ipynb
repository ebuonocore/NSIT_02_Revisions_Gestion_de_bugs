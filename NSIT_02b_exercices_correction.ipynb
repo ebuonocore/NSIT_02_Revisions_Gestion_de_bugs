{
 "cells": [
  {
   "cell_type": "markdown",
   "metadata": {},
   "source": [
    "<div style=\"width:100%;border-collapse:separate;border:solid 2px;border-radius:14px;\">\n",
    "    <div style=\"display:flex;\">\n",
    "        <div style=\"display:inline;width:5%;\"></div>\n",
    "        <div style=\"display:inline;width:15%;\">NSIT</div>\n",
    "        <div style=\"display:inline;width:15%;\">02b</div>\n",
    "        <div style=\"display:inline;width:70%;text-align:right;\"><b>Langages et programmation</b></div>\n",
    "        <div style=\"display:inline;width:5%;\"></div>\n",
    "    </div>\n",
    "    <div  style=\"display: flex;background-color:#EEE\">\n",
    "        <p style=\"width:100%;text-align:center;\">Mise au point des programmes</p>\n",
    "    </div>\n",
    "    <div  style=\"display: flex;\">\n",
    "        <p style=\"width:100%;text-align:center;\">Exercices</p>\n",
    "    </div>\n",
    "</div>"
   ]
  },
  {
   "cell_type": "markdown",
   "metadata": {},
   "source": [
    "<div class = \"alert alert-success\">\n",
    "    \n",
    "**Objectifs de la séquence:** \n",
    "- Identifier pourquoi les programmes ci-dessous plantent et les corriger"
   ]
  },
  {
   "cell_type": "markdown",
   "metadata": {},
   "source": [
    "<div class = \"alert alert-info\">\n",
    "    \n",
    "**Sommaire :**\n",
    "\n",
    "- <a href=#Variables>Variable (nommage et portée)</a>\n",
    "- <a href=#Bord>Effet de bord</a>  \n",
    "- <a href=#Typage>Problème de typage</a>  \n",
    "- <a href=#Logique>Instruction conditionnelle</a>   \n",
    "- <a href=#Flottants>Comparaison avec flottants</a>\n",
    "    \n",
    "</div>\n"
   ]
  },
  {
   "cell_type": "markdown",
   "metadata": {},
   "source": [
    "<div id=\"Variable\"></div>\n",
    "\n",
    "## Variable: nommage et portée\n",
    "\n",
    "Dans le programme ci-dessous, la variable 'mes_dollars' n'existe que dans le corps du programme: La fonction 'conversion_dollars_euros' ne peut pas la voir.  \n",
    "Il faut donc la passer en paramètre de la fonction.  \n",
    "De la même façon, la variable 'coefficient' n'est déclarée que dans la fonction. Elle n'est pas accessible du corps du programme.\n",
    "<p style=\"font-size: small; \">Rappel:  <a href=\"https://openclassrooms.com/fr/courses/235344-apprenez-a-programmer-en-python/232520-decouvrez-la-portee-des-variables-et-les-references\">Portée des variables et références</a></p>"
   ]
  },
  {
   "cell_type": "code",
   "execution_count": 72,
   "metadata": {},
   "outputs": [
    {
     "name": "stdout",
     "output_type": "stream",
     "text": [
      "200 dollars correspondent ajourd'hui a 170.0 €\n",
      "Le coefficient de conversion est de : 0.85\n"
     ]
    }
   ],
   "source": [
    "def conversion_dollars_euros(montant_dollars:int)->tuple:\n",
    "    \"\"\" Renvoie la valeur en euros d'un montant en dollars\n",
    "    \"\"\"\n",
    "    coefficient = 0.85\n",
    "    montant_euros = montant_dollars * coefficient\n",
    "    return  coefficient,montant_euros\n",
    "\n",
    "mes_dollars = 200\n",
    "coeff, en_euros = conversion_dollars_euros(mes_dollars)\n",
    "print(\"200 dollars correspondent ajourd'hui a\",en_euros,\"€\")\n",
    "print(\"Le coefficient de conversion est de :\", coeff)\n",
    "# Pour pouvoir voir la variable 'coefficient', il faut que la fonction retourne un p-uplet.\n",
    "# Par exemple: return (coefficient, montant_euros)\n",
    "# Et dans le corps du programme, il faut récupérer les deux valeurs: coeff, en_euros = conversion_dollars_euros()\n"
   ]
  },
  {
   "cell_type": "markdown",
   "metadata": {},
   "source": [
    "<div id=\"Bord\"></div>\n",
    "\n",
    "## Effet de bord\n",
    "\n",
    "Nous reprenons la fonction <code>les_deux_plus_grands()</code> vue précédemment.  \n",
    "Elle renvoie les deux plus grands éléments de la liste passée en paramètres.  \n",
    "Dans le programme ci-dessous, on se rend compte que l'appel de cette fonction affecte la liste passée en paramètre.  \n",
    "Cet effet indésiré doit être corrigé.  \n",
    "<p style=\"font-size: small; \">Coup de pouce: Pensez à faire une copie de la liste pour pouvoir la manipuler <a href=\"https://docs.python.org/fr/3/library/copy.html\">Copie de liste</a></p>"
   ]
  },
  {
   "cell_type": "code",
   "execution_count": 73,
   "metadata": {},
   "outputs": [
    {
     "name": "stdout",
     "output_type": "stream",
     "text": [
      "La liste avant l'appel de la fonction: [4, 8, 1, 2, 10, 2]\n",
      "Les deux plus grands éléments sont: (10, 8)\n",
      "La liste après l'appel de la fonction: [4, 8, 1, 2, 10, 2]\n"
     ]
    }
   ],
   "source": [
    "import copy as cp\n",
    "\n",
    "def les_deux_plus_grands(ma_liste:list)->tuple:\n",
    "    \"\"\"Renvoie le p-uplet constitué des deux plus grands nombres de 'ma_liste'\n",
    "    Précondition: 'ma_liste' doit contenir au moins deux éléments.\n",
    "    Postcondition: Le premier élément du couple renvoyé est le maximum de 'ma_liste'.\n",
    "    \"\"\"\n",
    "    liste_copie = cp.copy(ma_liste) # On fait ici, une copie de la liste passée en paramètre pour pouvoir travailelr dessus.\n",
    "    plus_grand = max(liste_copie) # Trouve le plus grand élément de 'ma_liste'\n",
    "    del liste_copie[liste_copie.index(plus_grand)] # Supprime cet élément de 'ma_liste' (la première occurence)\n",
    "    second_plus_grand = max(liste_copie) # Trouve le nouveau plus grand élément de 'ma_liste'\n",
    "    return (plus_grand, second_plus_grand)\n",
    "\n",
    "une_liste = [4, 8, 1, 2, 10, 2]\n",
    "print(\"La liste avant l'appel de la fonction:\",une_liste)\n",
    "couple_max = les_deux_plus_grands(une_liste)\n",
    "print(\"Les deux plus grands éléments sont:\",couple_max)\n",
    "print(\"La liste après l'appel de la fonction:\",une_liste) # Notre liste en sort indemne."
   ]
  },
  {
   "cell_type": "markdown",
   "metadata": {},
   "source": [
    "<div class = \"alert alert-danger\">\n",
    "    <b>Remaque:</b> La liste nomée 'une_liste' dans le corps du programme est passée en paramètre dans la fonction.  <br>\n",
    "    Dans la fonction, la liste en paramètre est nommé 'ma_liste' mais il s'agit bien du même objet! <br> \n",
    "    Il est donc important d'en faire une copie pour ne pas la détérioirer."
   ]
  },
  {
   "cell_type": "markdown",
   "metadata": {},
   "source": [
    "<div id=\"Typage\"></div>\n",
    "\n",
    "## Problème de typage\n",
    "\n",
    "<p style=\"font-size: small; \">Coup de pouce: <a href=\"http://python.lecoinduprogrammeur.org/2017/04/12/la-fonction-input/\">Transtypage</a></p>\n",
    "<p style=\"font-size: small; \">Pour aller plus loin: <a href=\"https://docs.python.org/fr/3.5/tutorial/errors.html\">Erreurs et exceptions (try/except)</a></p>"
   ]
  },
  {
   "cell_type": "code",
   "execution_count": 3,
   "metadata": {},
   "outputs": [
    {
     "name": "stdout",
     "output_type": "stream",
     "text": [
      "Quel est votre prénom ? er\n",
      "Quel est votre nom ? er\n",
      "Votre identifiant est: er.er\n",
      "Quel âge avez-vous? 34\n",
      "Le type de la variable 'prenom' est <class 'str'>\n",
      "Le type de la variable 'nom' est <class 'str'>\n",
      "Le type de la variable 'age' est <class 'str'>\n",
      "Le type de '2' est <class 'int'>\n",
      "On ne peut pas additionner un entier avec une chaîne de caractères\n"
     ]
    }
   ],
   "source": [
    "# On souhaite demander les informations utilisateurs pour afficher l'identifiant et l'age dans 2 ans.\n",
    "prenom = input (\"Quel est votre prénom ? \")\n",
    "nom = input (\"Quel est votre nom ? \")\n",
    "identifiant = prenom + \".\" + nom # Ici, on concatène (on assemble) les chaînes de caractères\n",
    "print(\"Votre identifiant est:\", identifiant)\n",
    "\n",
    "age = int(input(\"Quel âge avez-vous? \"))\n",
    "\n",
    "# Pour mieux comprendre ce qui se passe, on affiche ici le type des variables\n",
    "print (\"Le type de la variable 'prenom' est\", type(prenom))\n",
    "print (\"Le type de la variable 'nom' est\", type(nom))\n",
    "print (\"Le type de la variable 'age' est\", type(age))\n",
    "print (\"Le type de '2' est\", type(2))\n",
    "\n",
    "try:\n",
    "    dans_2_ans = age +2 # Cette opération semble poser problème ... On ne peut pas additionner un entier avec une chaîne de caractères\n",
    "    print(\"Dans deux ans, vous aurez:\", dans_2_ans)\n",
    "except TypeError:\n",
    "        print(\"On ne peut pas additionner un entier avec une chaîne de caractères\")"
   ]
  },
  {
   "cell_type": "markdown",
   "metadata": {},
   "source": [
    "<div id=\"Logique\"></div>\n",
    "\n",
    "## Instructions conditionnelles\n",
    "\n",
    "<p style=\"font-size: small; \">\n",
    "Petit rappel sur les <a href=\"https://cache.media.eduscol.education.fr/file/NSI/77/7/RA_Lycee_G_NSI_repd_types_construits_1170777.pdf\">dictionnaires</a> et tous les types construits (listes...).<br>\n",
    "Coup de pouce: <a href=\"https://courspython.com/tests.html\">Tests et opérateurs conditionnels</a></p>"
   ]
  },
  {
   "cell_type": "code",
   "execution_count": 76,
   "metadata": {},
   "outputs": [
    {
     "name": "stdout",
     "output_type": "stream",
     "text": [
      "Maria Mitchell est une fille et elle a au moins de 14 ans\n",
      "Beatrice Cave-Brown-Cave  est une fille et elle a au moins de 14 ans\n",
      "Joan Clarke est une fille et elle a au moins de 14 ans\n"
     ]
    }
   ],
   "source": [
    "# Une liste de dictionnaires contient les informations sur plusieurs personnes.\n",
    "# On souhaite n'afficher que les noms des filles qui ont au moins 14 ans.\n",
    "\n",
    "population = [\n",
    "    {'Nom' : 'Arsac', 'Prenom' : 'Jacques', 'Sexe' : 'M', 'Age' : 23},\n",
    "    {'Nom' : 'Babbage ', 'Prenom' : 'Charles ', 'Sexe' : 'M', 'Age' : 12},\n",
    "    {'Nom' : 'Mitchell', 'Prenom' : 'Maria', 'Sexe' : 'F', 'Age' : 14},\n",
    "    {'Nom' : 'Cave-Brown-Cave ', 'Prenom' : 'Beatrice', 'Sexe' : 'F', 'Age' : 21},\n",
    "    {'Nom' : 'Clarke', 'Prenom' : 'Joan', 'Sexe' : 'F', 'Age' : 16} ]\n",
    "\n",
    "for personne in population: # On parcourt l'ensemble de la liste population\n",
    "    # La variable 'personne' est donc de type dictionnaire (<class 'dict'>)\n",
    "    if personne['Sexe'] == 'F' and personne['Age'] >= 14:\n",
    "        print(personne['Prenom'],personne['Nom'],\"est une fille et elle a au moins de 14 ans\")"
   ]
  },
  {
   "cell_type": "code",
   "execution_count": 22,
   "metadata": {},
   "outputs": [
    {
     "name": "stdout",
     "output_type": "stream",
     "text": [
      "Jacques Arsac est un homme de plus de 13 ans\n"
     ]
    }
   ],
   "source": [
    "# Listez maintenant les hommes de plus de 13 ans.\n",
    "\n",
    "for personne in population: # On parcourt l'ensemble de la liste population\n",
    "    # La variable 'personne' est donc de type dictionnaire (<class 'dict'>)\n",
    "    if personne['Sexe'] == 'M' and personne['Age'] > 13:\n",
    "        print(personne['Prenom'],personne['Nom'],\"est un homme de plus de 13 ans\")"
   ]
  },
  {
   "cell_type": "markdown",
   "metadata": {},
   "source": [
    "<div id=\"Flottants\"></div>\n",
    "\n",
    "## Comparaison avec flottants\n",
    "\n",
    "<div class = \"alert alert-danger\">\n",
    "    <b>Attention:</b> Le programme suivant va faire <b>planter le noyau !</b><br>\n",
    "    Pour l'arrêter, vous devez appuyer sur le carré noir à droite du bouton \"Exécuter\".<br>\n",
    "    Puis corrigez le pour répondre au problème.</div>\n",
    "<p style=\"font-size: small; \">\n",
    "Petit rappel sur l' <a href=\"https://docs.python.org/fr/2.7/tutorial/floatingpoint.html\">Arithmétique en nombres à virgule flottante</a> : L'écriture informatique d'un nombre à virgule est une approximation du nombre.<br>"
   ]
  },
  {
   "cell_type": "code",
   "execution_count": 50,
   "metadata": {},
   "outputs": [
    {
     "name": "stdout",
     "output_type": "stream",
     "text": [
      "0 0.2 0.4 0.6 0.8 1.0 1.2 1.4 1.6 1.8 2.0 \n",
      "0.0 0.2 0.4 0.6 0.8 1.0 1.2 1.4 1.6 1.8 2.0 \n"
     ]
    },
    {
     "data": {
      "text/plain": [
       "[0.0, 0.2, 0.4, 0.6, 0.8, 1.0, 1.2, 1.4, 1.6, 1.8, 2.0]"
      ]
     },
     "execution_count": 50,
     "metadata": {},
     "output_type": "execute_result"
    }
   ],
   "source": [
    "# On souhaite afficher les nombre de 0 à 1.8 par saut de 0.2\n",
    "# 0 0.2 0.4 0.6 ... jusqu'à 1.8\n",
    "compteur = 0\n",
    "while compteur <= 2.0:\n",
    "    print (compteur,end=\" \")\n",
    "    compteur = round(compteur + 0.2,1)\n",
    "print()\n",
    "# Premier problème: Le programme ne s'arrête pas car on n'atteint jamais l'égalité compteur = 2.0\n",
    "# Second problème: Les valeurs affichées ne sont pas précisement celles attendues.\n",
    "# Proposez une correction de ce programme ou un autre programme qui réponde au problème.\n",
    "\n",
    "# Avec une boucle for.\n",
    "for i in range(11):\n",
    "    print(round(i*0.2,1),end=\" \")\n",
    "print()\n",
    "\n",
    "# Avec une liste en compréhension\n",
    "l = [round(i*0.2,1) for i in range(11)]\n",
    "l"
   ]
  },
  {
   "cell_type": "markdown",
   "metadata": {},
   "source": [
    "La fonction <code>round(N,i)</code> permet d'arrondir le nombre 'N' à la ième décimale.  \n",
    "Par exemple:"
   ]
  },
  {
   "cell_type": "code",
   "execution_count": 51,
   "metadata": {},
   "outputs": [
    {
     "data": {
      "text/plain": [
       "1.35"
      ]
     },
     "execution_count": 51,
     "metadata": {},
     "output_type": "execute_result"
    }
   ],
   "source": [
    "round(1.345435,2)"
   ]
  },
  {
   "cell_type": "markdown",
   "metadata": {},
   "source": [
    "<div id=\"Défi ultime\"></div>\n",
    "\n",
    "## Défi ultime\n",
    "\n",
    "Ecrire la fonction <code>juste_au_dessus_de()</code>.  \n",
    "Elle prend en paramètres une liste de nombres 'ma_liste' et un nombre 'borne'.  \n",
    "Elle renvoie le premier nombre de 'ma_liste' juste supérieur à 'borne'.  \n",
    "Si elle n'en trouve pas, elle renvoie 'None': <code>return None</code>  \n",
    "Ecrire le programme, les spécifiactions en utilisant Doctest.  \n",
    "Proposez des tests unitaires et une assertion qui vérifiera que 'ma_liste' n'est pas vide.\n"
   ]
  },
  {
   "cell_type": "code",
   "execution_count": 61,
   "metadata": {},
   "outputs": [
    {
     "name": "stdout",
     "output_type": "stream",
     "text": [
      "Le premier nombre supérieur à 10 dans [-2, -4, 100, 11, 20] est 100\n"
     ]
    }
   ],
   "source": [
    "def juste_au_dessus_de(ma_liste, borne):\n",
    "    \"\"\"Renvoie le premier nombre de 'ma_liste' juste supérieur à 'borne'.\n",
    "\n",
    "    :param list ma_liste: Liste à examiner.\n",
    "    :param float borne: Seuil.\n",
    "\n",
    "    :return: Le premier nombre de 'ma_liste' juste supérieur à 'borne'. Sinon, elle renvoie 'None'\n",
    "    \n",
    "    >>> juste_au_dessus_de([1,2,3,4],2)\n",
    "    3\n",
    "    >>> juste_au_dessus_de([-2,-4,1,0],-1)\n",
    "    1\n",
    "    >>> juste_au_dessus_de([-2,-4,1,0],10)\n",
    "    \n",
    "    \"\"\"\n",
    "    assert len(ma_liste) > 0, 'La liste ne doit pas être vide'\n",
    "    for element in ma_liste: # On parcourt la liste avec un itérateur\n",
    "        if element > borne:\n",
    "            return element\n",
    "    return None\n",
    "\n",
    "if __name__ == '__main__':\n",
    "    import doctest\n",
    "    doctest.testmod() # On peut aussi mettre 'verbose = True' en paramètre pour voir la trace du test.\n",
    "    \n",
    "    liste_a_tester = [-2,-4,100,11, 20]\n",
    "    print(\"Le premier nombre supérieur à 10 dans\",liste_a_tester,\"est\",juste_au_dessus_de(liste_a_tester,10))"
   ]
  },
  {
   "cell_type": "markdown",
   "metadata": {},
   "source": [
    "Presque le même problème mais cette fois la fonction <code>juste_en_dessous_de(ma_liste,borne)<code> renvoie le premier nombre inférieur à 'borne' ET l'indice de ce nombre dans 'ma_liste'.  \n",
    "Di elle n'en trouve pas, elle renvoie (None,None)"
   ]
  },
  {
   "cell_type": "code",
   "execution_count": 71,
   "metadata": {},
   "outputs": [
    {
     "name": "stdout",
     "output_type": "stream",
     "text": [
      "Le premier nombre inférieur à 3 dans [5, 4, 1, -11, -20] est 1\n",
      "Son indice dans la liste est 2\n"
     ]
    }
   ],
   "source": [
    "def juste_au_dessous_de(ma_liste, borne):\n",
    "    \"\"\"Renvoie le premier nombre de 'ma_liste' juste inférieur à 'borne'.\n",
    "\n",
    "    :param list ma_liste: Liste à examiner.\n",
    "    :param float borne: Seuil.\n",
    "\n",
    "    :return: L'indice du premier nombre de 'ma_liste' juste inférieur à 'borne' et le nombre en question. Sinon, elle renvoie '(None,None)'\n",
    "    \n",
    "    >>> juste_au_dessous_de([3,2,1,4],2)\n",
    "    (2, 1)\n",
    "    >>> juste_au_dessous_de([2,-4,1,0],-1)\n",
    "    (1, -4)\n",
    "    >>> juste_au_dessous_de([-2,-4,1,0],-10)\n",
    "    (None, None)\n",
    "    \"\"\"\n",
    "    assert len(ma_liste) > 0, 'La liste ne doit pas être vide'\n",
    "    for i in range(len(ma_liste)):  # On parcourt 'ma_liste' avec un indice\n",
    "        if ma_liste[i] < borne:\n",
    "            return (i, ma_liste[i] ) # Les parenthèses ne sont pas obligatoires ici.\n",
    "    return (None, None)\n",
    "\n",
    "if __name__ == '__main__':\n",
    "    import doctest\n",
    "    doctest.testmod() # On peut aussi mettre 'verbose = True' en paramètre pour voir la trace du test.\n",
    "    \n",
    "    liste_a_tester = [5,4,1,-11, -20]\n",
    "    indice, element = juste_au_dessous_de(liste_a_tester,3) # 'indice' et 'element' récupèrent le p-uplet renvoyé par la fonction\n",
    "    print(\"Le premier nombre inférieur à 3 dans\",liste_a_tester,\"est\",element)\n",
    "    print(\"Son indice dans la liste est\", indice)"
   ]
  },
  {
   "cell_type": "markdown",
   "metadata": {},
   "source": [
    "---\n",
    "<p style=\"font-family:Comic Sans MS; text-align: center; color:gray; font-size: x-small; \">- Eric Buonocore. Septembre 2020 -</p>\n",
    "\n",
    "![Licence CC BY NC SA](https://licensebuttons.net/l/by-nc-sa/3.0/88x31.png)"
   ]
  }
 ],
 "metadata": {
  "kernelspec": {
   "display_name": "Python 3",
   "language": "python",
   "name": "python3"
  },
  "language_info": {
   "codemirror_mode": {
    "name": "ipython",
    "version": 3
   },
   "file_extension": ".py",
   "mimetype": "text/x-python",
   "name": "python",
   "nbconvert_exporter": "python",
   "pygments_lexer": "ipython3",
   "version": "3.7.3"
  }
 },
 "nbformat": 4,
 "nbformat_minor": 2
}
